{
 "cells": [
  {
   "cell_type": "code",
   "execution_count": 4,
   "metadata": {},
   "outputs": [
    {
     "name": "stderr",
     "output_type": "stream",
     "text": [
      "[nltk_data] Downloading package names to\n",
      "[nltk_data]     /home/jandogonzales/nltk_data...\n",
      "[nltk_data]   Package names is already up-to-date!\n",
      "[nltk_data] Downloading package stopwords to\n",
      "[nltk_data]     /home/jandogonzales/nltk_data...\n",
      "[nltk_data]   Package stopwords is already up-to-date!\n",
      "[nltk_data] Downloading package state_union to\n",
      "[nltk_data]     /home/jandogonzales/nltk_data...\n",
      "[nltk_data]   Package state_union is already up-to-date!\n",
      "[nltk_data] Downloading package twitter_samples to\n",
      "[nltk_data]     /home/jandogonzales/nltk_data...\n",
      "[nltk_data]   Unzipping corpora/twitter_samples.zip.\n",
      "[nltk_data] Downloading package movie_reviews to\n",
      "[nltk_data]     /home/jandogonzales/nltk_data...\n",
      "[nltk_data]   Package movie_reviews is already up-to-date!\n",
      "[nltk_data] Downloading package averaged_perceptron_tagger to\n",
      "[nltk_data]     /home/jandogonzales/nltk_data...\n",
      "[nltk_data]   Package averaged_perceptron_tagger is already up-to-\n",
      "[nltk_data]       date!\n",
      "[nltk_data] Downloading package vader_lexicon to\n",
      "[nltk_data]     /home/jandogonzales/nltk_data...\n",
      "[nltk_data] Downloading package punkt to\n",
      "[nltk_data]     /home/jandogonzales/nltk_data...\n",
      "[nltk_data]   Package punkt is already up-to-date!\n"
     ]
    },
    {
     "data": {
      "text/plain": [
       "'\\n nltk.download([\\n...     \"names\",\\n...     \"stopwords\",\\n...     \"state_union\",\\n...     \"twitter_samples\",\\n...     \"movie_reviews\",\\n...     \"averaged_perceptron_tagger\",\\n...     \"vader_lexicon\",\\n...     \"punkt\",\\n... ])\\n'"
      ]
     },
     "execution_count": 4,
     "metadata": {},
     "output_type": "execute_result"
    }
   ],
   "source": [
    "import nltk\n",
    "nltk.download('names')\n",
    "nltk.download('stopwords')\n",
    "nltk.download('state_union')\n",
    "nltk.download('twitter_samples')\n",
    "nltk.download('movie_reviews')\n",
    "nltk.download('averaged_perceptron_tagger')\n",
    "nltk.download('vader_lexicon')\n",
    "nltk.download('punkt')\n",
    "\n",
    "'''\n",
    " nltk.download([\n",
    "...     \"names\",\n",
    "...     \"stopwords\",\n",
    "...     \"state_union\",\n",
    "...     \"twitter_samples\",\n",
    "...     \"movie_reviews\",\n",
    "...     \"averaged_perceptron_tagger\",\n",
    "...     \"vader_lexicon\",\n",
    "...     \"punkt\",\n",
    "... ])\n",
    "'''\n"
   ]
  },
  {
   "cell_type": "code",
   "execution_count": 8,
   "metadata": {},
   "outputs": [
    {
     "name": "stderr",
     "output_type": "stream",
     "text": [
      "[nltk_data] Downloading package shakespeare to\n",
      "[nltk_data]     /home/jandogonzales/nltk_data...\n",
      "[nltk_data]   Package shakespeare is already up-to-date!\n"
     ]
    },
    {
     "data": {
      "text/plain": [
       "True"
      ]
     },
     "execution_count": 8,
     "metadata": {},
     "output_type": "execute_result"
    }
   ],
   "source": [
    "nltk.download('shakespeare')"
   ]
  },
  {
   "cell_type": "code",
   "execution_count": 38,
   "metadata": {},
   "outputs": [
    {
     "name": "stderr",
     "output_type": "stream",
     "text": [
      "IOPub data rate exceeded.\n",
      "The notebook server will temporarily stop sending output\n",
      "to the client in order to avoid crashing it.\n",
      "To change this limit, set the config variable\n",
      "`--NotebookApp.iopub_data_rate_limit`.\n",
      "\n",
      "Current values:\n",
      "NotebookApp.iopub_data_rate_limit=1000000.0 (bytes/sec)\n",
      "NotebookApp.rate_limit_window=3.0 (secs)\n",
      "\n"
     ]
    }
   ],
   "source": [
    "# gather all the words from state of union and alpha gets \n",
    "# words only made up of letters\n",
    "words = [w for w in nltk.corpus.state_union.words() if w.isalpha()]\n",
    "\n",
    "# remove stopwords from the list\n",
    "stopwords = nltk.corpus.stopwords.words(\"english\")\n",
    "unionWords = [w for w in words if w.lower() not in stopwords]\n",
    "print(words)"
   ]
  },
  {
   "cell_type": "code",
   "execution_count": 39,
   "metadata": {},
   "outputs": [
    {
     "name": "stdout",
     "output_type": "stream",
     "text": [
      "['...', 'For', 'some', 'quick', 'analysis', ',', 'creating', 'a', 'corpus',\n",
      " 'could', 'be', 'overkill', '.', '...', 'If', 'all', 'you', 'need', 'is', 'a',\n",
      " 'word', 'list', ',', '...', 'there', 'are', 'simpler', 'ways', 'to',\n",
      " 'achieve', 'that', 'goal', '.']\n"
     ]
    }
   ],
   "source": [
    "# tokenize the words\n",
    "from pprint import pprint\n",
    "\n",
    "text = \"\"\"\n",
    "... For some quick analysis, creating a corpus could be overkill.\n",
    "... If all you need is a word list,\n",
    "... there are simpler ways to achieve that goal.\"\"\"\n",
    "pprint(nltk.word_tokenize(text), width=79, compact=True)"
   ]
  },
  {
   "cell_type": "code",
   "execution_count": 64,
   "metadata": {},
   "outputs": [
    {
     "name": "stdout",
     "output_type": "stream",
     "text": [
      "1431\n",
      "694\n",
      "         I      every     public        may government    present        one    country   citizens      ought \n",
      "        23          8          6          6          6          5          4          4          4          4 \n"
     ]
    },
    {
     "data": {
      "text/plain": [
       "4"
      ]
     },
     "execution_count": 64,
     "metadata": {},
     "output_type": "execute_result"
    }
   ],
   "source": [
    "# frequency distributions for the tokenized words\n",
    "from typing import List\n",
    "from nltk.corpus import inaugural\n",
    "from nltk.tokenize import RegexpTokenizer\n",
    "\n",
    "# get the state of the union as text\n",
    "text = inaugural.raw('1789-Washington.txt')\n",
    "# print(text)\n",
    "\n",
    "# find all words that are made up of letters in the state of union or any text\n",
    "# words = [w for w in nltk.corpus.state_union.words() if w.isalpha()]\n",
    "\n",
    "# tokenize the words from raw text\n",
    "tokenizer = RegexpTokenizer(r'\\w+')\n",
    "# tokenWords: List[str] = list(tokenizer.word_tokenize(text))\n",
    "tokenWords: List[str] = list(tokenizer.tokenize(text))\n",
    "print(len(tokenWords))\n",
    "# print(tokenWords)\n",
    "    \n",
    "# filter the stop words out of the words and then run freq dist\n",
    "filterWords = [w for w in tokenWords if w not in stopwords]\n",
    "print(len(filterWords))\n",
    "# print(filterWords)"
   ]
  },
  {
   "cell_type": "code",
   "execution_count": 67,
   "metadata": {},
   "outputs": [
    {
     "name": "stdout",
     "output_type": "stream",
     "text": [
      "         I      every     public        may government    present        one    country   citizens      ought \n",
      "        23          8          6          6          6          5          4          4          4          4 \n",
      "<FreqDist with 526 samples and 694 outcomes>\n",
      "         I      every     public        may government    present        one    country   citizens      ought \n",
      "        23          8          6          6          6          5          4          4          4          4 \n"
     ]
    }
   ],
   "source": [
    "# frequency distribution for most common words outside of stop words\n",
    "fd = nltk.FreqDist(filterWords)\n",
    "fd.most_common(10)\n",
    "fd.tabulate(10)\n",
    "\n",
    "# differences in case\n",
    "fd[\"country\"]\n",
    "\n",
    "# find frequency distribution of words regardless of case\n",
    "lower_fd = nltk.FreqDist([w.lower() for w in filterWords])\n",
    "print(lower_fd)\n",
    "fd.most_common(10)\n",
    "fd.tabulate(10)"
   ]
  },
  {
   "cell_type": "code",
   "execution_count": 78,
   "metadata": {},
   "outputs": [
    {
     "name": "stdout",
     "output_type": "stream",
     "text": [
      "Displaying 5 of 1079 matches:\n",
      " would want us to do . That is what America will do . So much blood has already\n",
      "ay , the entire world is looking to America for enlightened leadership to peace\n",
      "beyond any shadow of a doubt , that America will continue the fight for freedom\n",
      " to make complete victory certain , America will never become a party to any pl\n",
      "nly in law and in justice . Here in America , we have labored long and hard to \n",
      "\n",
      "\n",
      " would want us to do . That is what America will do . So much blood has already\n",
      "\n",
      "\n",
      "ay , the entire world is looking to America for enlightened leadership to peace\n",
      "\n",
      "\n",
      "beyond any shadow of a doubt , that America will continue the fight for freedom\n",
      "\n",
      "\n",
      " to make complete victory certain , America will never become a party to any pl\n",
      "\n",
      "\n",
      "nly in law and in justice . Here in America , we have labored long and hard to \n",
      "\n",
      "\n"
     ]
    }
   ],
   "source": [
    "# use concordance to find locations and context\n",
    "text = nltk.Text(nltk.corpus.state_union.words())\n",
    "text.concordance(\"america\", lines=5) # only used for returning concordance to console\n",
    "print(\"\\n\")\n",
    "\n",
    "# list of concordance words\n",
    "concordance_list = text.concordance_list(\"america\", lines=5)\n",
    "for entry in concordance_list:\n",
    "    print(entry.line)\n",
    "    print(\"\\n\")"
   ]
  },
  {
   "cell_type": "code",
   "execution_count": 81,
   "metadata": {},
   "outputs": [
    {
     "name": "stdout",
     "output_type": "stream",
     "text": [
      "    is better   than \n",
      "     3      3      3 \n"
     ]
    }
   ],
   "source": [
    "# vocabulary plugin for the Text module in NLTK\n",
    "from typing import List\n",
    "words: List[str] = nltk.word_tokenize(\n",
    "    \"\"\"Beautiful is better than ugly.\n",
    "    Explicit is better than implicit.\n",
    "    Simple is better than complex.\n",
    "    \"\"\")\n",
    "text = nltk.Text(words)\n",
    "fd = text.vocab() # equiv to nltk.FreqDist(words)\n",
    "fd.tabulate(3)"
   ]
  },
  {
   "cell_type": "code",
   "execution_count": 87,
   "metadata": {},
   "outputs": [
    {
     "name": "stdout",
     "output_type": "stream",
     "text": [
      "  ('the', 'United', 'States') ('the', 'American', 'people') \n",
      "                          294                           185 \n"
     ]
    }
   ],
   "source": [
    "# collocations - series of words that frequently appear together in a text\n",
    "# ex: United and States show up together in SOU\n",
    "# Collaction examples:\n",
    "# 1. Bigrams: Frequent 2 word combos\n",
    "# 2. Trigrams: \" 3 word combos\n",
    "# 3. Quadgrams: 4\n",
    "words = [w for w in nltk.corpus.state_union.words() if w.isalpha()] # pull only words from addy\n",
    "finder = nltk.collocations.TrigramCollocationFinder.from_words(words)\n",
    "\n",
    "# ngram freq dist, freq dist for each collocation rather than for individual words\n",
    "finder.ngram_fd.most_common(2)\n",
    "finder.ngram_fd.tabulate(2)\n"
   ]
  },
  {
   "cell_type": "code",
   "execution_count": null,
   "metadata": {},
   "outputs": [],
   "source": []
  }
 ],
 "metadata": {
  "kernelspec": {
   "display_name": "Python 3",
   "language": "python",
   "name": "python3"
  },
  "language_info": {
   "codemirror_mode": {
    "name": "ipython",
    "version": 3
   },
   "file_extension": ".py",
   "mimetype": "text/x-python",
   "name": "python",
   "nbconvert_exporter": "python",
   "pygments_lexer": "ipython3",
   "version": "3.8.13"
  }
 },
 "nbformat": 4,
 "nbformat_minor": 4
}
