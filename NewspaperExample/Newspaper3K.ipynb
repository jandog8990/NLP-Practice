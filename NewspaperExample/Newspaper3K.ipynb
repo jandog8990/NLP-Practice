{
 "cells": [
  {
   "cell_type": "code",
   "execution_count": 45,
   "metadata": {},
   "outputs": [
    {
     "name": "stderr",
     "output_type": "stream",
     "text": [
      "[nltk_data] Downloading package punkt to\n",
      "[nltk_data]     /home/jandogonzales/nltk_data...\n",
      "[nltk_data]   Package punkt is already up-to-date!\n"
     ]
    },
    {
     "data": {
      "text/plain": [
       "True"
      ]
     },
     "execution_count": 45,
     "metadata": {},
     "output_type": "execute_result"
    }
   ],
   "source": [
    "from newspaper import Article\n",
    "import nltk\n",
    "nltk.download('punkt')"
   ]
  },
  {
   "cell_type": "code",
   "execution_count": 46,
   "metadata": {},
   "outputs": [
    {
     "name": "stdout",
     "output_type": "stream",
     "text": [
      "Article\n",
      "<newspaper.article.Article object at 0x7fdf66d747c0>\n",
      "Article 2\n",
      "<newspaper.article.Article object at 0x7fdf66d74c70>\n",
      "MTB Article\n",
      "<newspaper.article.Article object at 0x7fdf66d74160>\n"
     ]
    }
   ],
   "source": [
    "# Scrape the NYTimes for scraping article\n",
    "article = Article('https://www.nytimes.com/2020/05/10/us/ahmaud-arbery-georgia.html')\n",
    "print('Article')\n",
    "print(article)\n",
    "\n",
    "# decoding using specific language EN, ES\n",
    "article2 = Article('https://www.nytimes.com/2020/05/10/us/ahmaud-arbery-georgia.html', 'en')\n",
    "print('Article 2')\n",
    "print(article2)\n",
    "\n",
    "# MTB Project article\n",
    "mtb_article = Article('https://www.mtbproject.com/trail/285392/tunnel-otero-west-figure-8')\n",
    "print('MTB Article')\n",
    "print(mtb_article)"
   ]
  },
  {
   "cell_type": "code",
   "execution_count": 47,
   "metadata": {},
   "outputs": [],
   "source": [
    "# parse the articles using methods\n",
    "article.download()\n",
    "article.parse()\n",
    "\n",
    "# parse the mtb articles\n",
    "mtb_article.download()\n",
    "mtb_article.parse()"
   ]
  },
  {
   "cell_type": "code",
   "execution_count": 37,
   "metadata": {},
   "outputs": [
    {
     "data": {
      "text/plain": [
       "'A sweet singletrack ride in a pion forest, following ridges and canyons and contouring along hillsides. All the trails used on this ride offer their own challenges in the form of grinding climbs, ledges, baby heads, tight spots between trees and of course flowing banked corners and jumps.\\n\\n\\n\\nThis trail system can be busy on a nice weekend and it can be accessed by several different parking areas so what you see in the lot might not be representative of how many people will be out.\\n\\nThis ride butts up against the military withdrawal area of Kirtland Air Force Base. Be careful not to cross onto their land, it is posted poorly, almost as if they want you to make a mistake and end up in their domain.\\n\\nStart up the Tunnel Canyon Trail, which climbs gradually to start, then leads to some steeper bits and a ledge here or there. Make a turn through the bottom of the canyon and start to climb the other side more steeply. Once you make it through the steep grunt, things mellow out for the most part and you\\'ll climb gradually up to the junction with the West Ridge Trail.Turn right onto the West Ridge Trail and immediately start climbing again on loose terrain with nice, easy rounded ledges. It\\'s more important to hold the line than to be particularly good since if you are in the right place the traction is decent; however if you drift into the baby \"fists\" things can get ugly real quick.At the top of the climb there is a trail junction on the right, take note, this is where you willou\\'ll turn later. Once through the initial climb you are rewarded with fast smooth trail snaking through the trees and the occasional rock gardens, though nothing you can\\'t roll through. Next up is a winding baby head climb finished with some sharp bedded rock layers and ledges. More fast winding trail awaits above. Then a final steep loose climb with a couple of stair steps at the top finishes off the climbing on this section.On the next fast twisting section, keep your eyes peeled for the KAFB boundary and the HIDDEN sign, it is tucked in behind a tree, though there is some flagging on trees in the area and a couple of spots where rocks have been set on either side of the trail before you get there.Just before the KAFB boundary make a sharp left and enjoy the flowing downhill through the trees. There is almost no need to pedal through this section and there are numerous rocks to jump off or avoid, banked turns and even a log to ride. The trail eventually drops down into Otero Canyon Take a left on the Otero Canyon Trail and head downhill. This is one of the best trails in the Albuquerque area and offers a little of everything. The highlights are the 2 walls that you get to jump off of and the sweet banked turns down at the bottom. There are also rock gardens and jumps along the way as you dip into and out of and cross back and forth through the canyon. You willou\\'ll pass the Blue Ribbon Trail on your right and dip through the canyon from right to left and there will be a trail junction on the left, this is the tail end of the Tunnel Canyon Trail.Make a hard left and climb back up to the West Ridge Trail. The climb starts with a difficult hairpin with angled steps to make things more difficult. Steps and ledges is the name of the game on this climb. Some of the steps are quite large including one in the middle of the climb and one just before you reach the West Ridge . It is a fun exercise in riding steps and great for learning or improving.Now turn left and make the initial climb on the West Ridge Trail again, for some reason I typically do better the second time up. At the top of the climb you willou\\'ll make a very sharp turn to the right onto the Birdhouse Ridge Trail. This trail was cut in 2011 by FOO and the FS and is a great addition. It is mostly flat and downhill all the way back to the car from here.You willou\\'ll quickly come to a small burnt out area that offers a great view of the back side of the Sandia Mountains. From here things start to drop, lots of twists and turns and a few sections with rock ledges but nothing too technical. Eventually you really start to go down on an open hillside and have a couple of hairpins then a straight section with some more rocky bits followed by 2 more hairpins. Then the trail enters the trees again for the last twisting bit before you pop out onto the Tunnel Canyon Trail less than 100 yards from your car.'"
      ]
     },
     "execution_count": 37,
     "metadata": {},
     "output_type": "execute_result"
    }
   ],
   "source": [
    "article.html\n",
    "article.authors\n",
    "article.publish_date\n",
    "article.text\n",
    "\n",
    "# mtb article metadata\n",
    "mtb_article.html\n",
    "mtb_article.authors\n",
    "mtb_article.publish_date\n",
    "mtb_article.text"
   ]
  },
  {
   "cell_type": "code",
   "execution_count": 48,
   "metadata": {},
   "outputs": [
    {
     "data": {
      "text/plain": [
       "\"Start up the Tunnel Canyon Trail, which climbs gradually to start, then leads to some steeper bits and a ledge here or there.\\nThe trail eventually drops down into Otero Canyon Take a left on the Otero Canyon Trail and head downhill.\\nSome of the steps are quite large including one in the middle of the climb and one just before you reach the West Ridge .\\nAt the top of the climb you willou'll make a very sharp turn to the right onto the Birdhouse Ridge Trail.\\nThen the trail enters the trees again for the last twisting bit before you pop out onto the Tunnel Canyon Trail less than 100 yards from your car.\""
      ]
     },
     "execution_count": 48,
     "metadata": {},
     "output_type": "execute_result"
    }
   ],
   "source": [
    "# article NYTimes NLP\n",
    "article.nlp()\n",
    "article.summary\n",
    "\n",
    "# MTB article NLP\n",
    "mtb_article.nlp()\n",
    "mtb_article.summary"
   ]
  },
  {
   "cell_type": "code",
   "execution_count": 40,
   "metadata": {},
   "outputs": [
    {
     "data": {
      "text/plain": [
       "['tunnel',\n",
       " 'otero',\n",
       " 'right',\n",
       " 'canyon',\n",
       " 'mexico',\n",
       " 'carnuel',\n",
       " 'trail',\n",
       " 'trees',\n",
       " 'west',\n",
       " 'bike',\n",
       " 'ridge',\n",
       " 'left',\n",
       " 'figure',\n",
       " 'steps',\n",
       " 'start',\n",
       " 'mountain',\n",
       " 'climb']"
      ]
     },
     "execution_count": 40,
     "metadata": {},
     "output_type": "execute_result"
    }
   ],
   "source": [
    "# article keywords from NLP\n",
    "article.keywords\n",
    "mtb_article.keywords"
   ]
  },
  {
   "cell_type": "code",
   "execution_count": 22,
   "metadata": {},
   "outputs": [
    {
     "data": {
      "text/plain": [
       "['Man City',\n",
       " 'Super Bowl',\n",
       " 'Barcelona vs Sevilla',\n",
       " 'Grammys',\n",
       " 'Barcelona',\n",
       " '1923',\n",
       " 'Cristiano Ronaldo',\n",
       " 'Leonardo DiCaprio',\n",
       " 'Bucks',\n",
       " 'Coldplay',\n",
       " 'New Orleans Pelicans',\n",
       " 'Leeds United',\n",
       " 'Chinese balloon',\n",
       " 'Pro Bowl 2023',\n",
       " 'Warriors',\n",
       " 'UFC',\n",
       " 'Man United vs Crystal Palace',\n",
       " 'PSG',\n",
       " 'Celtics',\n",
       " 'Brian Schottenheimer']"
      ]
     },
     "execution_count": 22,
     "metadata": {},
     "output_type": "execute_result"
    }
   ],
   "source": [
    "# Easter eggs\n",
    "# hot() - returns a list of top trending terms on Goole using API\n",
    "# popular_urls() - returns list of popular news source urls\n",
    "newspaper.hot()"
   ]
  },
  {
   "cell_type": "code",
   "execution_count": 24,
   "metadata": {},
   "outputs": [
    {
     "data": {
      "text/plain": [
       "['http://www.huffingtonpost.com',\n",
       " 'http://cnn.com',\n",
       " 'http://www.time.com',\n",
       " 'http://www.ted.com',\n",
       " 'http://pandodaily.com',\n",
       " 'http://www.cnbc.com',\n",
       " 'http://www.mlb.com',\n",
       " 'http://www.pcmag.com',\n",
       " 'http://www.foxnews.com',\n",
       " 'http://theatlantic.com',\n",
       " 'http://www.bbc.co.uk',\n",
       " 'http://www.vice.com',\n",
       " 'http://www.elle.com',\n",
       " 'http://www.vh1.com',\n",
       " 'http://espnf1.com',\n",
       " 'http://espn.com',\n",
       " 'http://www.npr.org',\n",
       " 'http://www.sfgate.com',\n",
       " 'http://www.glamour.com',\n",
       " 'http://www.whosdatedwho.com',\n",
       " 'http://kotaku.com',\n",
       " 'http://thebostonchannel.com',\n",
       " 'http://www.suntimes.com',\n",
       " 'http://www.businessinsider.com',\n",
       " 'http://www.rivals.com',\n",
       " 'http://thebusinessjournal.com',\n",
       " 'http://www.newrepublic.com',\n",
       " 'http://allthingsd.com',\n",
       " 'http://www.topgear.com',\n",
       " 'http://thecitizen.com',\n",
       " 'http://www.ign.com',\n",
       " 'http://www.sci-news.com',\n",
       " 'http://www.morningstar.com',\n",
       " 'http://www.variety.com',\n",
       " 'http://thebottomline.as.ucsb.edu',\n",
       " 'http://www.gamefaqs.com',\n",
       " 'http://blog.searchenginewatch.com',\n",
       " 'http://thedailyfairfield.com',\n",
       " 'http://www.solarnovus.com',\n",
       " 'http://medicalxpress.com',\n",
       " 'http://www.news.com.au',\n",
       " 'http://www.health.com',\n",
       " 'http://www.computerandvideogames.com',\n",
       " 'http://wsj.com',\n",
       " 'http://www.allure.com',\n",
       " 'http://www.theinsider.com',\n",
       " 'http://cnet.com',\n",
       " 'http://venturebeat.com',\n",
       " 'http://www.topspeed.com',\n",
       " 'http://thedailyworld.com',\n",
       " 'http://games.com',\n",
       " 'http://www.religionnews.com',\n",
       " 'http://blogs.berkeley.edu',\n",
       " 'http://www.sbnation.com',\n",
       " 'http://www.polygon.com',\n",
       " 'http://nytimes.com',\n",
       " 'http://www.thefrisky.com',\n",
       " 'http://telegram.com',\n",
       " 'http://yahoo.com',\n",
       " 'http://www.nbcnews.com',\n",
       " 'http://thedailypage.com',\n",
       " 'http://www.popsci.com',\n",
       " 'http://www.pbs.org',\n",
       " 'http://www.nasa.gov',\n",
       " 'http://www.guardiannews.com',\n",
       " 'http://www.weather.com',\n",
       " 'http://www.gq.com',\n",
       " 'http://www.etonline.com',\n",
       " 'http://telegraph.co.uk',\n",
       " 'http://www.fastcompany.com',\n",
       " 'http://www.infoworld.com',\n",
       " 'http://www.wired.com',\n",
       " 'http://www.pcgamer.com',\n",
       " 'http://sportingnews.com',\n",
       " 'http://theatlanticwire.com',\n",
       " 'http://thecarconnection.com',\n",
       " 'http://www.sun-sentinel.com',\n",
       " 'http://autoblog.com',\n",
       " 'http://www.environmentalleader.com',\n",
       " 'http://thecrimson.com',\n",
       " 'http://thecypresstimes.com',\n",
       " 'http://www.dailyfinance.com',\n",
       " 'http://www.politico.com',\n",
       " 'http://newsroom.fb.com',\n",
       " 'http://news.ycombinator.com',\n",
       " 'http://lifehacker.com',\n",
       " 'http://www.bet.com',\n",
       " 'http://independent.co.uk',\n",
       " 'http://www.mlssoccer.com',\n",
       " 'http://www.bodybuilding.com',\n",
       " 'http://www.cosmopolitan.com',\n",
       " 'http://www.apple.com',\n",
       " 'http://www.autonews.com',\n",
       " 'http://www.eonline.com',\n",
       " 'http://www.vanityfair.com',\n",
       " 'http://techdigest.tv',\n",
       " 'http://www.maximumpc.com',\n",
       " 'http://www.techradar.com',\n",
       " 'http://thedailyjournal.com',\n",
       " 'http://www.mlive.com',\n",
       " 'http://techworld.com.au',\n",
       " 'http://www.techmeme.com',\n",
       " 'http://thedailynewsegypt.com',\n",
       " 'http://thedailygrind.com.au',\n",
       " 'http://techcrunch.com',\n",
       " 'http://tehrantimes.com',\n",
       " 'http://www.hollywoodreporter.com',\n",
       " 'http://thedailysound.com',\n",
       " 'http://www.stltoday.com',\n",
       " 'http://deadspin.com',\n",
       " 'http://www.digitaltrends.com',\n",
       " 'http://seattletimes.com',\n",
       " 'http://seattlepi.com',\n",
       " 'http://www.cleveland.com',\n",
       " 'http://heritage.org',\n",
       " 'http://www.today.com',\n",
       " 'http://www.politifact.com',\n",
       " 'http://zdnet.com',\n",
       " 'http://www.nationalenquirer.com',\n",
       " 'http://egotastic.com',\n",
       " 'http://blogs.creativeloafing.com',\n",
       " 'http://townhall.com',\n",
       " 'http://www.eweek.com',\n",
       " 'http://www.vogue.co.uk',\n",
       " 'http://www.teenvogue.com',\n",
       " 'http://www.nypost.com',\n",
       " 'http://www.reuters.com',\n",
       " 'http://www.scientificamerican.com',\n",
       " 'http://www.miamiherald.com',\n",
       " 'http://www.nydailynews.com',\n",
       " 'http://www.newscientist.com',\n",
       " 'http://bigstory.ap.org',\n",
       " 'http://www.ebony.com',\n",
       " 'http://thedailystar.com',\n",
       " 'http://www.technologyreview.com',\n",
       " 'http://www.theverge.com',\n",
       " 'http://www.nba.com',\n",
       " 'http://www.cbssports.com',\n",
       " 'http://betabeat.com',\n",
       " 'http://www.tmz.com',\n",
       " 'http://tcnewsnet.com',\n",
       " 'http://www.latimes.com',\n",
       " 'http://www.c-span.org',\n",
       " 'http://www.style.com',\n",
       " 'http://www.peoplestylewatch.com',\n",
       " 'http://theboot.com',\n",
       " 'http://www.foxbusiness.com',\n",
       " 'http://www.pcworld.com',\n",
       " 'http://washingtontimes.com',\n",
       " 'http://thedailyreview.com',\n",
       " 'http://www.nfl.com',\n",
       " 'http://www.space.com',\n",
       " 'http://washingtontechnology.com',\n",
       " 'http://www.buzzfeed.com',\n",
       " 'http://inquirer.net',\n",
       " 'http://www.maxim.com',\n",
       " 'http://abcnews.com',\n",
       " 'http://www.extremetech.com',\n",
       " 'http://thedailytimes.com',\n",
       " 'http://mashable.com',\n",
       " 'http://washingtonexaminer.com',\n",
       " 'http://www.bhg.com',\n",
       " 'http://tech.mit.edu',\n",
       " 'http://hotair.com',\n",
       " 'http://www.1up.com',\n",
       " 'http://www.cbc.ca',\n",
       " 'http://gawker.com',\n",
       " 'http://celebuzz.com',\n",
       " 'http://sciencemag.org',\n",
       " 'http://www.rollingstone.com',\n",
       " 'http://slashdot.org',\n",
       " 'http://www.slate.com',\n",
       " 'http://bleacherreport.com',\n",
       " 'http://www.nascar.com',\n",
       " 'http://www.forbes.com',\n",
       " 'http://washingtonpost.com',\n",
       " 'http://nymag.com',\n",
       " 'http://www.microsoft.com',\n",
       " 'http://hbr.org',\n",
       " 'http://www.ft.com',\n",
       " 'http://www.dailymail.co.uk',\n",
       " 'http://www.theautochannel.com',\n",
       " 'http://g4tv.com',\n",
       " 'http://www.aljazeera.com',\n",
       " 'http://politicker.com',\n",
       " 'http://nbcsports.nbc.com',\n",
       " 'http://www.gamespot.com',\n",
       " 'http://news.sky.com',\n",
       " 'http://www.joystiq.com',\n",
       " 'http://www.escapistmagazine.com',\n",
       " 'http://www.thestreet.com',\n",
       " 'http://www.ew.com',\n",
       " 'http://www.nj.com',\n",
       " 'http://msn.com',\n",
       " 'http://thedailyreporter.com',\n",
       " 'http://www.economist.com',\n",
       " 'http://phys.org',\n",
       " 'http://www.glam.com',\n",
       " 'http://perezhilton.com',\n",
       " 'http://www.usmagazine.com',\n",
       " 'http://aol.com',\n",
       " 'http://www.cbsnews.com',\n",
       " 'http://www.tennis.com',\n",
       " 'http://washingtonian.com',\n",
       " 'http://www.sciencedaily.com',\n",
       " 'http://foxsports.com',\n",
       " 'http://www.popularmechanics.com',\n",
       " 'http://www.macworld.com',\n",
       " 'http://thinkprogress.org',\n",
       " 'http://www.mtv.com',\n",
       " 'http://discovery.com',\n",
       " 'http://www.people.com',\n",
       " 'http://thedailybeast.com',\n",
       " 'http://www.hollywood.com',\n",
       " 'http://medium.com',\n",
       " 'http://www.engadget.com',\n",
       " 'http://www.usnews.com',\n",
       " 'http://www.billboard.com',\n",
       " 'http://nationalgeographic.com',\n",
       " 'http://www.purseblog.com',\n",
       " 'http://www.giantbomb.com',\n",
       " 'http://www.automobilemag.com',\n",
       " 'http://thechronicle.com.au',\n",
       " 'http://tbnweekly.com',\n",
       " 'http://techreport.com',\n",
       " 'http://thedailyfix.com',\n",
       " 'http://www.animenewsnetwork.com',\n",
       " 'http://www.realclearpolitics.com',\n",
       " 'http://usatoday.com',\n",
       " 'http://www.techspot.com',\n",
       " 'http://discovermagazine.com',\n",
       " 'http://arstechnica.com',\n",
       " 'http://foreignpolicy.com',\n",
       " 'http://www.redstate.com',\n",
       " 'http://www.marketwatch.com',\n",
       " 'http://www.eurogamer.net',\n",
       " 'http://cbn.com',\n",
       " 'http://www.parade.com',\n",
       " 'http://www.bbcamerica.com',\n",
       " 'http://washingtonindependent.com',\n",
       " 'http://drudgereport.com',\n",
       " 'http://beta.na.leagueoflegends.com']"
      ]
     },
     "execution_count": 24,
     "metadata": {},
     "output_type": "execute_result"
    }
   ],
   "source": [
    "newspaper.popular_urls()"
   ]
  },
  {
   "cell_type": "markdown",
   "metadata": {},
   "source": [
    "mtb_article.keywords()"
   ]
  },
  {
   "cell_type": "code",
   "execution_count": 50,
   "metadata": {},
   "outputs": [
    {
     "data": {
      "text/plain": [
       "['tunnel',\n",
       " 'otero',\n",
       " 'right',\n",
       " 'canyon',\n",
       " 'mexico',\n",
       " 'carnuel',\n",
       " 'trail',\n",
       " 'trees',\n",
       " 'west',\n",
       " 'bike',\n",
       " 'ridge',\n",
       " 'left',\n",
       " 'figure',\n",
       " 'steps',\n",
       " 'start',\n",
       " 'mountain',\n",
       " 'climb']"
      ]
     },
     "execution_count": 50,
     "metadata": {},
     "output_type": "execute_result"
    }
   ],
   "source": [
    "mtb_article.keywords"
   ]
  },
  {
   "cell_type": "code",
   "execution_count": 51,
   "metadata": {},
   "outputs": [],
   "source": [
    "trailforks = Article('https://www.trailforks.com/region/albuquerque/trails/')"
   ]
  },
  {
   "cell_type": "code",
   "execution_count": 52,
   "metadata": {},
   "outputs": [
    {
     "ename": "ArticleException",
     "evalue": "Article `download()` failed with 403 Client Error: Forbidden for url: https://www.trailforks.com/region/albuquerque/trails/ on URL https://www.trailforks.com/region/albuquerque/trails/",
     "output_type": "error",
     "traceback": [
      "\u001b[0;31m---------------------------------------------------------------------------\u001b[0m",
      "\u001b[0;31mArticleException\u001b[0m                          Traceback (most recent call last)",
      "\u001b[0;32m<ipython-input-52-4dc82e15086d>\u001b[0m in \u001b[0;36m<module>\u001b[0;34m\u001b[0m\n\u001b[1;32m      1\u001b[0m \u001b[0mtrailforks\u001b[0m\u001b[0;34m.\u001b[0m\u001b[0mdownload\u001b[0m\u001b[0;34m(\u001b[0m\u001b[0;34m)\u001b[0m\u001b[0;34m\u001b[0m\u001b[0;34m\u001b[0m\u001b[0m\n\u001b[0;32m----> 2\u001b[0;31m \u001b[0mtrailforks\u001b[0m\u001b[0;34m.\u001b[0m\u001b[0mparse\u001b[0m\u001b[0;34m(\u001b[0m\u001b[0;34m)\u001b[0m\u001b[0;34m\u001b[0m\u001b[0;34m\u001b[0m\u001b[0m\n\u001b[0m",
      "\u001b[0;32m~/.local/lib/python3.8/site-packages/newspaper/article.py\u001b[0m in \u001b[0;36mparse\u001b[0;34m(self)\u001b[0m\n\u001b[1;32m    189\u001b[0m \u001b[0;34m\u001b[0m\u001b[0m\n\u001b[1;32m    190\u001b[0m     \u001b[0;32mdef\u001b[0m \u001b[0mparse\u001b[0m\u001b[0;34m(\u001b[0m\u001b[0mself\u001b[0m\u001b[0;34m)\u001b[0m\u001b[0;34m:\u001b[0m\u001b[0;34m\u001b[0m\u001b[0;34m\u001b[0m\u001b[0m\n\u001b[0;32m--> 191\u001b[0;31m         \u001b[0mself\u001b[0m\u001b[0;34m.\u001b[0m\u001b[0mthrow_if_not_downloaded_verbose\u001b[0m\u001b[0;34m(\u001b[0m\u001b[0;34m)\u001b[0m\u001b[0;34m\u001b[0m\u001b[0;34m\u001b[0m\u001b[0m\n\u001b[0m\u001b[1;32m    192\u001b[0m \u001b[0;34m\u001b[0m\u001b[0m\n\u001b[1;32m    193\u001b[0m         \u001b[0mself\u001b[0m\u001b[0;34m.\u001b[0m\u001b[0mdoc\u001b[0m \u001b[0;34m=\u001b[0m \u001b[0mself\u001b[0m\u001b[0;34m.\u001b[0m\u001b[0mconfig\u001b[0m\u001b[0;34m.\u001b[0m\u001b[0mget_parser\u001b[0m\u001b[0;34m(\u001b[0m\u001b[0;34m)\u001b[0m\u001b[0;34m.\u001b[0m\u001b[0mfromstring\u001b[0m\u001b[0;34m(\u001b[0m\u001b[0mself\u001b[0m\u001b[0;34m.\u001b[0m\u001b[0mhtml\u001b[0m\u001b[0;34m)\u001b[0m\u001b[0;34m\u001b[0m\u001b[0;34m\u001b[0m\u001b[0m\n",
      "\u001b[0;32m~/.local/lib/python3.8/site-packages/newspaper/article.py\u001b[0m in \u001b[0;36mthrow_if_not_downloaded_verbose\u001b[0;34m(self)\u001b[0m\n\u001b[1;32m    529\u001b[0m             \u001b[0;32mraise\u001b[0m \u001b[0mArticleException\u001b[0m\u001b[0;34m(\u001b[0m\u001b[0;34m'You must `download()` an article first!'\u001b[0m\u001b[0;34m)\u001b[0m\u001b[0;34m\u001b[0m\u001b[0;34m\u001b[0m\u001b[0m\n\u001b[1;32m    530\u001b[0m         \u001b[0;32melif\u001b[0m \u001b[0mself\u001b[0m\u001b[0;34m.\u001b[0m\u001b[0mdownload_state\u001b[0m \u001b[0;34m==\u001b[0m \u001b[0mArticleDownloadState\u001b[0m\u001b[0;34m.\u001b[0m\u001b[0mFAILED_RESPONSE\u001b[0m\u001b[0;34m:\u001b[0m\u001b[0;34m\u001b[0m\u001b[0;34m\u001b[0m\u001b[0m\n\u001b[0;32m--> 531\u001b[0;31m             raise ArticleException('Article `download()` failed with %s on URL %s' %\n\u001b[0m\u001b[1;32m    532\u001b[0m                   (self.download_exception_msg, self.url))\n\u001b[1;32m    533\u001b[0m \u001b[0;34m\u001b[0m\u001b[0m\n",
      "\u001b[0;31mArticleException\u001b[0m: Article `download()` failed with 403 Client Error: Forbidden for url: https://www.trailforks.com/region/albuquerque/trails/ on URL https://www.trailforks.com/region/albuquerque/trails/"
     ]
    }
   ],
   "source": [
    "trailforks.download()\n",
    "trailforks.parse()"
   ]
  },
  {
   "cell_type": "code",
   "execution_count": null,
   "metadata": {},
   "outputs": [],
   "source": []
  }
 ],
 "metadata": {
  "kernelspec": {
   "display_name": "Python 3",
   "language": "python",
   "name": "python3"
  },
  "language_info": {
   "codemirror_mode": {
    "name": "ipython",
    "version": 3
   },
   "file_extension": ".py",
   "mimetype": "text/x-python",
   "name": "python",
   "nbconvert_exporter": "python",
   "pygments_lexer": "ipython3",
   "version": "3.8.13"
  }
 },
 "nbformat": 4,
 "nbformat_minor": 4
}
